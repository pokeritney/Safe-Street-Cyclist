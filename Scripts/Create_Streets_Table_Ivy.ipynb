{
 "cells": [
  {
   "cell_type": "code",
   "execution_count": 1,
   "metadata": {
    "scrolled": true
   },
   "outputs": [],
   "source": [
    "import pandas as pd\n",
    "import numpy as np\n",
    "from io import StringIO\n",
    "from IPython.display import display\n",
    "# get the data\n",
    "# streets\n",
    "raw_streets = pd.read_csv('/Users/caoguangyue/OneDrive - Perkins & Will/Documents/_01_GT/CSE 6242/DVA_Group_Project/Data/st_sgmt_infrastructure.csv')\n",
    "raw_transportation = pd.read_csv('/Users/caoguangyue/OneDrive - Perkins & Will/Documents/_01_GT/CSE 6242/DVA_Group_Project/Database/TransBase/st_sgmt_trnsprtn.csv')\n",
    "\n",
    "# intersection\n",
    "raw_inter = pd.read_csv('/Users/caoguangyue/OneDrive - Perkins & Will/Documents/_01_GT/CSE 6242/DVA_Group_Project/Data/intersection_transportation.csv')\n",
    "\n",
    "# bike facility\n",
    "cyclist_facility = pd.read_csv('/Users/caoguangyue/OneDrive - Perkins & Will/Documents/_01_GT/CSE 6242/DVA_Group_Project/Data/cyclist_facilities.csv')\n",
    "\n"
   ]
  },
  {
   "cell_type": "code",
   "execution_count": 7,
   "metadata": {},
   "outputs": [
    {
     "name": "stdout",
     "output_type": "stream",
     "text": [
      "15490\n"
     ]
    },
    {
     "data": {
      "text/html": [
       "<div>\n",
       "<style scoped>\n",
       "    .dataframe tbody tr th:only-of-type {\n",
       "        vertical-align: middle;\n",
       "    }\n",
       "\n",
       "    .dataframe tbody tr th {\n",
       "        vertical-align: top;\n",
       "    }\n",
       "\n",
       "    .dataframe thead th {\n",
       "        text-align: right;\n",
       "    }\n",
       "</style>\n",
       "<table border=\"1\" class=\"dataframe\">\n",
       "  <thead>\n",
       "    <tr style=\"text-align: right;\">\n",
       "      <th></th>\n",
       "      <th>cnn_sgmt_pkey</th>\n",
       "      <th>facility_type</th>\n",
       "      <th>surface_type</th>\n",
       "      <th>sharrow</th>\n",
       "    </tr>\n",
       "  </thead>\n",
       "  <tbody>\n",
       "    <tr>\n",
       "      <th>0</th>\n",
       "      <td>136000</td>\n",
       "      <td>BIKE ROUTE</td>\n",
       "      <td>GREEN-BACKED SHARROWS</td>\n",
       "      <td>YES</td>\n",
       "    </tr>\n",
       "    <tr>\n",
       "      <th>1</th>\n",
       "      <td>136000</td>\n",
       "      <td>BIKE ROUTE</td>\n",
       "      <td>GREEN-BACKED SHARROWS</td>\n",
       "      <td>YES</td>\n",
       "    </tr>\n",
       "    <tr>\n",
       "      <th>2</th>\n",
       "      <td>137000</td>\n",
       "      <td>BIKE ROUTE</td>\n",
       "      <td>GREEN-BACKED SHARROWS</td>\n",
       "      <td>YES</td>\n",
       "    </tr>\n",
       "    <tr>\n",
       "      <th>3</th>\n",
       "      <td>137000</td>\n",
       "      <td>BIKE ROUTE</td>\n",
       "      <td>GREEN-BACKED SHARROWS</td>\n",
       "      <td>YES</td>\n",
       "    </tr>\n",
       "    <tr>\n",
       "      <th>4</th>\n",
       "      <td>6690000</td>\n",
       "      <td>BIKE ROUTE</td>\n",
       "      <td>NaN</td>\n",
       "      <td>NO</td>\n",
       "    </tr>\n",
       "  </tbody>\n",
       "</table>\n",
       "</div>"
      ],
      "text/plain": [
       "   cnn_sgmt_pkey facility_type           surface_type sharrow\n",
       "0         136000    BIKE ROUTE  GREEN-BACKED SHARROWS     YES\n",
       "1         136000    BIKE ROUTE  GREEN-BACKED SHARROWS     YES\n",
       "2         137000    BIKE ROUTE  GREEN-BACKED SHARROWS     YES\n",
       "3         137000    BIKE ROUTE  GREEN-BACKED SHARROWS     YES\n",
       "4        6690000    BIKE ROUTE                    NaN      NO"
      ]
     },
     "execution_count": 7,
     "metadata": {},
     "output_type": "execute_result"
    }
   ],
   "source": [
    "#clean streets table\n",
    "streets = raw_streets[['cnn_sgmt_pkey','f_node_cnn_intrsctn_fkey','t_node_cnn_intrsctn_fkey','cyc_ntwrk_yn','speed_limit','pk_metered_cnt','pk_on_st_cnt','oneway_yn']]\n",
    "trans = raw_transportation[['cnn_sgmt_pkey','daily_ride_qrt']]\n",
    "df1 = streets.merge(trans, on=['cnn_sgmt_pkey','cnn_sgmt_pkey'], how = 'left')\n",
    "# sorting by sgmt_key\n",
    "df1.sort_values('cnn_sgmt_pkey', inplace = True) \n",
    "  \n",
    "# dropping ALL duplicte values \n",
    "df1.drop_duplicates(subset ='cnn_sgmt_pkey', \n",
    "                     keep = False, inplace = True)\n",
    "\n",
    "print(len(df1))\n",
    "#add bike facility information\n",
    "bike = cyclist_facility[['cnn_sgmt_pkey','facility_type','surface_type','sharrow']]\n",
    "bike.head()"
   ]
  },
  {
   "cell_type": "code",
   "execution_count": 8,
   "metadata": {},
   "outputs": [
    {
     "name": "stdout",
     "output_type": "stream",
     "text": [
      "17678\n"
     ]
    },
    {
     "data": {
      "text/html": [
       "<div>\n",
       "<style scoped>\n",
       "    .dataframe tbody tr th:only-of-type {\n",
       "        vertical-align: middle;\n",
       "    }\n",
       "\n",
       "    .dataframe tbody tr th {\n",
       "        vertical-align: top;\n",
       "    }\n",
       "\n",
       "    .dataframe thead th {\n",
       "        text-align: right;\n",
       "    }\n",
       "</style>\n",
       "<table border=\"1\" class=\"dataframe\">\n",
       "  <thead>\n",
       "    <tr style=\"text-align: right;\">\n",
       "      <th></th>\n",
       "      <th>cnn_sgmt_pkey</th>\n",
       "      <th>f_node_cnn_intrsctn_fkey</th>\n",
       "      <th>t_node_cnn_intrsctn_fkey</th>\n",
       "      <th>cyc_ntwrk_yn</th>\n",
       "      <th>speed_limit</th>\n",
       "      <th>pk_metered_cnt</th>\n",
       "      <th>pk_on_st_cnt</th>\n",
       "      <th>oneway_yn</th>\n",
       "      <th>daily_ride_qrt</th>\n",
       "      <th>facility_type</th>\n",
       "      <th>surface_type</th>\n",
       "      <th>sharrow</th>\n",
       "    </tr>\n",
       "  </thead>\n",
       "  <tbody>\n",
       "    <tr>\n",
       "      <th>0</th>\n",
       "      <td>100000</td>\n",
       "      <td>30731000</td>\n",
       "      <td>24666000</td>\n",
       "      <td>NO</td>\n",
       "      <td>25.0</td>\n",
       "      <td>17.0</td>\n",
       "      <td>14.0</td>\n",
       "      <td>YES</td>\n",
       "      <td>143701.0</td>\n",
       "      <td>NaN</td>\n",
       "      <td>NaN</td>\n",
       "      <td>NaN</td>\n",
       "    </tr>\n",
       "    <tr>\n",
       "      <th>1</th>\n",
       "      <td>101000</td>\n",
       "      <td>24666000</td>\n",
       "      <td>24564000</td>\n",
       "      <td>NO</td>\n",
       "      <td>25.0</td>\n",
       "      <td>16.0</td>\n",
       "      <td>9.0</td>\n",
       "      <td>YES</td>\n",
       "      <td>124386.0</td>\n",
       "      <td>NaN</td>\n",
       "      <td>NaN</td>\n",
       "      <td>NaN</td>\n",
       "    </tr>\n",
       "    <tr>\n",
       "      <th>2</th>\n",
       "      <td>102000</td>\n",
       "      <td>24564000</td>\n",
       "      <td>24530000</td>\n",
       "      <td>NO</td>\n",
       "      <td>25.0</td>\n",
       "      <td>14.0</td>\n",
       "      <td>6.0</td>\n",
       "      <td>YES</td>\n",
       "      <td>118965.0</td>\n",
       "      <td>NaN</td>\n",
       "      <td>NaN</td>\n",
       "      <td>NaN</td>\n",
       "    </tr>\n",
       "    <tr>\n",
       "      <th>3</th>\n",
       "      <td>103000</td>\n",
       "      <td>24530000</td>\n",
       "      <td>24563000</td>\n",
       "      <td>NO</td>\n",
       "      <td>25.0</td>\n",
       "      <td>12.0</td>\n",
       "      <td>8.0</td>\n",
       "      <td>YES</td>\n",
       "      <td>119853.0</td>\n",
       "      <td>NaN</td>\n",
       "      <td>NaN</td>\n",
       "      <td>NaN</td>\n",
       "    </tr>\n",
       "    <tr>\n",
       "      <th>4</th>\n",
       "      <td>104001</td>\n",
       "      <td>24563000</td>\n",
       "      <td>54001000</td>\n",
       "      <td>NO</td>\n",
       "      <td>25.0</td>\n",
       "      <td>1.0</td>\n",
       "      <td>0.0</td>\n",
       "      <td>YES</td>\n",
       "      <td>82917.0</td>\n",
       "      <td>NaN</td>\n",
       "      <td>NaN</td>\n",
       "      <td>NaN</td>\n",
       "    </tr>\n",
       "  </tbody>\n",
       "</table>\n",
       "</div>"
      ],
      "text/plain": [
       "   cnn_sgmt_pkey  f_node_cnn_intrsctn_fkey  t_node_cnn_intrsctn_fkey  \\\n",
       "0         100000                  30731000                  24666000   \n",
       "1         101000                  24666000                  24564000   \n",
       "2         102000                  24564000                  24530000   \n",
       "3         103000                  24530000                  24563000   \n",
       "4         104001                  24563000                  54001000   \n",
       "\n",
       "  cyc_ntwrk_yn  speed_limit  pk_metered_cnt  pk_on_st_cnt oneway_yn  \\\n",
       "0           NO         25.0            17.0          14.0       YES   \n",
       "1           NO         25.0            16.0           9.0       YES   \n",
       "2           NO         25.0            14.0           6.0       YES   \n",
       "3           NO         25.0            12.0           8.0       YES   \n",
       "4           NO         25.0             1.0           0.0       YES   \n",
       "\n",
       "   daily_ride_qrt facility_type surface_type sharrow  \n",
       "0        143701.0           NaN          NaN     NaN  \n",
       "1        124386.0           NaN          NaN     NaN  \n",
       "2        118965.0           NaN          NaN     NaN  \n",
       "3        119853.0           NaN          NaN     NaN  \n",
       "4         82917.0           NaN          NaN     NaN  "
      ]
     },
     "execution_count": 8,
     "metadata": {},
     "output_type": "execute_result"
    }
   ],
   "source": [
    "street_full = df1.merge(bike, on=['cnn_sgmt_pkey','cnn_sgmt_pkey'],how = 'left')\n",
    "print(len(street_full))\n",
    "street_full.head()"
   ]
  },
  {
   "cell_type": "code",
   "execution_count": 4,
   "metadata": {
    "scrolled": true
   },
   "outputs": [
    {
     "data": {
      "text/html": [
       "<div>\n",
       "<style scoped>\n",
       "    .dataframe tbody tr th:only-of-type {\n",
       "        vertical-align: middle;\n",
       "    }\n",
       "\n",
       "    .dataframe tbody tr th {\n",
       "        vertical-align: top;\n",
       "    }\n",
       "\n",
       "    .dataframe thead th {\n",
       "        text-align: right;\n",
       "    }\n",
       "</style>\n",
       "<table border=\"1\" class=\"dataframe\">\n",
       "  <thead>\n",
       "    <tr style=\"text-align: right;\">\n",
       "      <th></th>\n",
       "      <th>cnn_intrsctn_pkey</th>\n",
       "      <th>latitude</th>\n",
       "      <th>longitude</th>\n",
       "    </tr>\n",
       "  </thead>\n",
       "  <tbody>\n",
       "    <tr>\n",
       "      <th>0</th>\n",
       "      <td>20006000</td>\n",
       "      <td>37.709419</td>\n",
       "      <td>-122.382506</td>\n",
       "    </tr>\n",
       "    <tr>\n",
       "      <th>1</th>\n",
       "      <td>20010000</td>\n",
       "      <td>37.715558</td>\n",
       "      <td>-122.389438</td>\n",
       "    </tr>\n",
       "    <tr>\n",
       "      <th>2</th>\n",
       "      <td>20011000</td>\n",
       "      <td>37.716298</td>\n",
       "      <td>-122.388131</td>\n",
       "    </tr>\n",
       "    <tr>\n",
       "      <th>3</th>\n",
       "      <td>20013000</td>\n",
       "      <td>37.716087</td>\n",
       "      <td>-122.388978</td>\n",
       "    </tr>\n",
       "    <tr>\n",
       "      <th>4</th>\n",
       "      <td>20034000</td>\n",
       "      <td>37.728568</td>\n",
       "      <td>-122.370352</td>\n",
       "    </tr>\n",
       "  </tbody>\n",
       "</table>\n",
       "</div>"
      ],
      "text/plain": [
       "   cnn_intrsctn_pkey   latitude   longitude\n",
       "0           20006000  37.709419 -122.382506\n",
       "1           20010000  37.715558 -122.389438\n",
       "2           20011000  37.716298 -122.388131\n",
       "3           20013000  37.716087 -122.388978\n",
       "4           20034000  37.728568 -122.370352"
      ]
     },
     "execution_count": 4,
     "metadata": {},
     "output_type": "execute_result"
    }
   ],
   "source": [
    "intersection = raw_inter[['cnn_intrsctn_pkey','latitude','longitude']]\n",
    "intersection.head()"
   ]
  },
  {
   "cell_type": "code",
   "execution_count": 5,
   "metadata": {},
   "outputs": [],
   "source": [
    "streets_export = street_full.to_csv(r'/Users/caoguangyue/OneDrive - Perkins & Will/Documents/_01_GT/CSE 6242/DVA_Group_Project/Data/streets_full.csv', index = None, header=True)"
   ]
  },
  {
   "cell_type": "code",
   "execution_count": 6,
   "metadata": {},
   "outputs": [
    {
     "data": {
      "text/plain": [
       "17678"
      ]
     },
     "execution_count": 6,
     "metadata": {},
     "output_type": "execute_result"
    }
   ],
   "source": [
    "len(street_full)"
   ]
  },
  {
   "cell_type": "code",
   "execution_count": null,
   "metadata": {},
   "outputs": [],
   "source": []
  },
  {
   "cell_type": "code",
   "execution_count": null,
   "metadata": {},
   "outputs": [],
   "source": []
  },
  {
   "cell_type": "code",
   "execution_count": null,
   "metadata": {},
   "outputs": [],
   "source": []
  }
 ],
 "metadata": {
  "kernelspec": {
   "display_name": "Python 3",
   "language": "python",
   "name": "python3"
  },
  "language_info": {
   "codemirror_mode": {
    "name": "ipython",
    "version": 3
   },
   "file_extension": ".py",
   "mimetype": "text/x-python",
   "name": "python",
   "nbconvert_exporter": "python",
   "pygments_lexer": "ipython3",
   "version": "3.7.3"
  }
 },
 "nbformat": 4,
 "nbformat_minor": 2
}
