{
 "cells": [
  {
   "cell_type": "code",
   "execution_count": 10,
   "metadata": {
    "scrolled": true
   },
   "outputs": [],
   "source": [
    "import pandas as pd\n",
    "import numpy as np\n",
    "from io import StringIO\n",
    "from IPython.display import display\n",
    "# get the data\n",
    "# streets\n",
    "raw_streets = pd.read_csv('/Users/caoguangyue/OneDrive - Perkins & Will/Documents/_01_GT/CSE 6242/DVA_Group_Project/Data/st_sgmt_infrastructure.csv')\n",
    "raw_transportation = pd.read_csv('/Users/caoguangyue/OneDrive - Perkins & Will/Documents/_01_GT/CSE 6242/DVA_Group_Project/Database/TransBase/st_sgmt_trnsprtn.csv')\n",
    "\n",
    "# intersection\n",
    "raw_inter = pd.read_csv('/Users/caoguangyue/OneDrive - Perkins & Will/Documents/_01_GT/CSE 6242/DVA_Group_Project/Data/intersection_transportation.csv')\n",
    "\n",
    "# bike facility\n",
    "cyclist_facility = pd.read_csv('/Users/caoguangyue/OneDrive - Perkins & Will/Documents/_01_GT/CSE 6242/DVA_Group_Project/Data/cyclist_facilities.csv')\n",
    "\n"
   ]
  },
  {
   "cell_type": "code",
   "execution_count": 15,
   "metadata": {},
   "outputs": [
    {
     "data": {
      "text/html": [
       "<div>\n",
       "<style scoped>\n",
       "    .dataframe tbody tr th:only-of-type {\n",
       "        vertical-align: middle;\n",
       "    }\n",
       "\n",
       "    .dataframe tbody tr th {\n",
       "        vertical-align: top;\n",
       "    }\n",
       "\n",
       "    .dataframe thead th {\n",
       "        text-align: right;\n",
       "    }\n",
       "</style>\n",
       "<table border=\"1\" class=\"dataframe\">\n",
       "  <thead>\n",
       "    <tr style=\"text-align: right;\">\n",
       "      <th></th>\n",
       "      <th>cnn_sgmt_pkey</th>\n",
       "      <th>facility_type</th>\n",
       "      <th>surface_type</th>\n",
       "      <th>sharrow</th>\n",
       "    </tr>\n",
       "  </thead>\n",
       "  <tbody>\n",
       "    <tr>\n",
       "      <th>0</th>\n",
       "      <td>136000</td>\n",
       "      <td>BIKE ROUTE</td>\n",
       "      <td>GREEN-BACKED SHARROWS</td>\n",
       "      <td>YES</td>\n",
       "    </tr>\n",
       "    <tr>\n",
       "      <th>1</th>\n",
       "      <td>136000</td>\n",
       "      <td>BIKE ROUTE</td>\n",
       "      <td>GREEN-BACKED SHARROWS</td>\n",
       "      <td>YES</td>\n",
       "    </tr>\n",
       "    <tr>\n",
       "      <th>2</th>\n",
       "      <td>137000</td>\n",
       "      <td>BIKE ROUTE</td>\n",
       "      <td>GREEN-BACKED SHARROWS</td>\n",
       "      <td>YES</td>\n",
       "    </tr>\n",
       "    <tr>\n",
       "      <th>3</th>\n",
       "      <td>137000</td>\n",
       "      <td>BIKE ROUTE</td>\n",
       "      <td>GREEN-BACKED SHARROWS</td>\n",
       "      <td>YES</td>\n",
       "    </tr>\n",
       "    <tr>\n",
       "      <th>4</th>\n",
       "      <td>6690000</td>\n",
       "      <td>BIKE ROUTE</td>\n",
       "      <td>NaN</td>\n",
       "      <td>NO</td>\n",
       "    </tr>\n",
       "  </tbody>\n",
       "</table>\n",
       "</div>"
      ],
      "text/plain": [
       "   cnn_sgmt_pkey facility_type           surface_type sharrow\n",
       "0         136000    BIKE ROUTE  GREEN-BACKED SHARROWS     YES\n",
       "1         136000    BIKE ROUTE  GREEN-BACKED SHARROWS     YES\n",
       "2         137000    BIKE ROUTE  GREEN-BACKED SHARROWS     YES\n",
       "3         137000    BIKE ROUTE  GREEN-BACKED SHARROWS     YES\n",
       "4        6690000    BIKE ROUTE                    NaN      NO"
      ]
     },
     "execution_count": 15,
     "metadata": {},
     "output_type": "execute_result"
    }
   ],
   "source": [
    "#clean streets table\n",
    "streets = raw_streets[['cnn_sgmt_pkey','f_node_cnn_intrsctn_fkey','t_node_cnn_intrsctn_fkey','cyc_ntwrk_yn','speed_limit','pk_metered_cnt','pk_on_st_cnt','oneway_yn']]\n",
    "trans = raw_transportation[['cnn_sgmt_pkey','daily_ride_qrt']]\n",
    "df1 = streets.merge(trans, on=['cnn_sgmt_pkey','cnn_sgmt_pkey'], how = 'left')\n",
    "\n",
    "#add bike facility information\n",
    "bike = cyclist_facility[['cnn_sgmt_pkey','facility_type','surface_type','sharrow']]\n",
    "bike.head()"
   ]
  },
  {
   "cell_type": "code",
   "execution_count": 13,
   "metadata": {},
   "outputs": [
    {
     "data": {
      "text/html": [
       "<div>\n",
       "<style scoped>\n",
       "    .dataframe tbody tr th:only-of-type {\n",
       "        vertical-align: middle;\n",
       "    }\n",
       "\n",
       "    .dataframe tbody tr th {\n",
       "        vertical-align: top;\n",
       "    }\n",
       "\n",
       "    .dataframe thead th {\n",
       "        text-align: right;\n",
       "    }\n",
       "</style>\n",
       "<table border=\"1\" class=\"dataframe\">\n",
       "  <thead>\n",
       "    <tr style=\"text-align: right;\">\n",
       "      <th></th>\n",
       "      <th>cnn_intrsctn_pkey</th>\n",
       "      <th>latitude</th>\n",
       "      <th>longitude</th>\n",
       "    </tr>\n",
       "  </thead>\n",
       "  <tbody>\n",
       "    <tr>\n",
       "      <th>0</th>\n",
       "      <td>20006000</td>\n",
       "      <td>37.709419</td>\n",
       "      <td>-122.382506</td>\n",
       "    </tr>\n",
       "    <tr>\n",
       "      <th>1</th>\n",
       "      <td>20010000</td>\n",
       "      <td>37.715558</td>\n",
       "      <td>-122.389438</td>\n",
       "    </tr>\n",
       "    <tr>\n",
       "      <th>2</th>\n",
       "      <td>20011000</td>\n",
       "      <td>37.716298</td>\n",
       "      <td>-122.388131</td>\n",
       "    </tr>\n",
       "    <tr>\n",
       "      <th>3</th>\n",
       "      <td>20013000</td>\n",
       "      <td>37.716087</td>\n",
       "      <td>-122.388978</td>\n",
       "    </tr>\n",
       "    <tr>\n",
       "      <th>4</th>\n",
       "      <td>20034000</td>\n",
       "      <td>37.728568</td>\n",
       "      <td>-122.370352</td>\n",
       "    </tr>\n",
       "  </tbody>\n",
       "</table>\n",
       "</div>"
      ],
      "text/plain": [
       "   cnn_intrsctn_pkey   latitude   longitude\n",
       "0           20006000  37.709419 -122.382506\n",
       "1           20010000  37.715558 -122.389438\n",
       "2           20011000  37.716298 -122.388131\n",
       "3           20013000  37.716087 -122.388978\n",
       "4           20034000  37.728568 -122.370352"
      ]
     },
     "execution_count": 13,
     "metadata": {},
     "output_type": "execute_result"
    }
   ],
   "source": [
    "intersection = raw_inter[['cnn_intrsctn_pkey','latitude','longitude']]\n",
    "intersection.head()"
   ]
  },
  {
   "cell_type": "code",
   "execution_count": null,
   "metadata": {},
   "outputs": [],
   "source": []
  },
  {
   "cell_type": "code",
   "execution_count": null,
   "metadata": {},
   "outputs": [],
   "source": []
  },
  {
   "cell_type": "code",
   "execution_count": null,
   "metadata": {},
   "outputs": [],
   "source": []
  },
  {
   "cell_type": "code",
   "execution_count": null,
   "metadata": {},
   "outputs": [],
   "source": []
  },
  {
   "cell_type": "code",
   "execution_count": null,
   "metadata": {},
   "outputs": [],
   "source": []
  }
 ],
 "metadata": {
  "kernelspec": {
   "display_name": "Python 3",
   "language": "python",
   "name": "python3"
  },
  "language_info": {
   "codemirror_mode": {
    "name": "ipython",
    "version": 3
   },
   "file_extension": ".py",
   "mimetype": "text/x-python",
   "name": "python",
   "nbconvert_exporter": "python",
   "pygments_lexer": "ipython3",
   "version": "3.7.3"
  }
 },
 "nbformat": 4,
 "nbformat_minor": 2
}
