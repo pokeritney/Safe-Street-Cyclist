{
 "cells": [
  {
   "cell_type": "code",
   "execution_count": 1,
   "metadata": {},
   "outputs": [],
   "source": [
    "import pandas as pd\n",
    "from sklearn.ensemble import RandomForestRegressor\n",
    "from sklearn.model_selection import GridSearchCV\n",
    "import numpy as np\n"
   ]
  },
  {
   "cell_type": "code",
   "execution_count": 125,
   "metadata": {
    "scrolled": true
   },
   "outputs": [
    {
     "name": "stdout",
     "output_type": "stream",
     "text": [
      "For: KNN_7 and y_1\n",
      "{'max_depth': 6, 'max_features': 10, 'n_estimators': 300}\n",
      "0.07356424401510675\n",
      "-------------\n",
      "For: KNN_7 and y_2\n",
      "{'max_depth': 5, 'max_features': 10, 'n_estimators': 500}\n",
      "0.4999654102655794\n",
      "-------------\n",
      "For: KNN_8 and y_1\n",
      "{'max_depth': 6, 'max_features': 10, 'n_estimators': 300}\n",
      "0.07284730773667958\n",
      "-------------\n",
      "For: KNN_8 and y_2\n",
      "{'max_depth': 5, 'max_features': 10, 'n_estimators': 500}\n",
      "0.4712771280204747\n",
      "-------------\n",
      "For: KNN_9 and y_1\n",
      "{'max_depth': 7, 'max_features': 10, 'n_estimators': 300}\n",
      "0.050224403765977144\n",
      "-------------\n",
      "For: KNN_9 and y_2\n",
      "{'max_depth': 5, 'max_features': 10, 'n_estimators': 300}\n",
      "0.478107630404623\n",
      "-------------\n",
      "For: KNN_10 and y_1\n",
      "{'max_depth': 5, 'max_features': 10, 'n_estimators': 300}\n",
      "0.07457913046688547\n",
      "-------------\n",
      "For: KNN_10 and y_2\n",
      "{'max_depth': 5, 'max_features': 10, 'n_estimators': 300}\n",
      "0.44829764938191996\n",
      "-------------\n",
      "For: pca_KNN_7 and y_1\n",
      "{'max_depth': 7, 'max_features': 10, 'n_estimators': 300}\n",
      "0.048589682731222994\n",
      "-------------\n",
      "For: pca_KNN_7 and y_2\n",
      "{'max_depth': 5, 'max_features': 10, 'n_estimators': 300}\n",
      "0.4939761195620185\n",
      "-------------\n",
      "For: pca_KNN_8 and y_1\n",
      "{'max_depth': 5, 'max_features': 10, 'n_estimators': 300}\n",
      "0.07097432325154918\n",
      "-------------\n",
      "For: pca_KNN_8 and y_2\n",
      "{'max_depth': 5, 'max_features': 10, 'n_estimators': 300}\n",
      "0.4896354862072003\n",
      "-------------\n",
      "For: pca_KNN_9 and y_1\n",
      "{'max_depth': 7, 'max_features': 10, 'n_estimators': 300}\n",
      "0.0709310930646051\n",
      "-------------\n",
      "For: pca_KNN_9 and y_2\n",
      "{'max_depth': 5, 'max_features': 10, 'n_estimators': 300}\n",
      "0.4880827234241275\n",
      "-------------\n",
      "For: pca_KNN_10 and y_1\n",
      "{'max_depth': 6, 'max_features': 10, 'n_estimators': 300}\n",
      "0.07875856527971248\n",
      "-------------\n",
      "For: pca_KNN_10 and y_2\n",
      "{'max_depth': 5, 'max_features': 10, 'n_estimators': 500}\n",
      "0.4765362725898331\n",
      "-------------\n"
     ]
    }
   ],
   "source": [
    "import warnings\n",
    "warnings.filterwarnings(\"ignore\")\n",
    "best_oob = 0\n",
    "for k in ['KNN_','pca_KNN_']:\n",
    "    for i in [7,8,9,10]:\n",
    "        for t in ['y_1','y_2']:\n",
    "            clusters = pd.read_csv(k+str(i)+'.csv')\n",
    "            street_full = pd.read_csv(\"streets_full.csv\")\n",
    "            collision = pd.read_csv(\"st_collision_sgmt_level.csv\")\n",
    "            #street_full.isnull().sum()/len(street_full)\n",
    "\n",
    "            for col_ in ['speed_limit', 'pk_metered_cnt', 'pk_on_st_cnt',\n",
    "                   'oneway_yn', 'daily_ride_qrt']:\n",
    "                if col_ == 'daily_ride_qrt':\n",
    "                    street_full[col_] = street_full[col_].fillna(street_full[col_].median())\n",
    "                else:\n",
    "                    street_full[col_] = street_full[col_].fillna(street_full[col_].value_counts().index[0])\n",
    "\n",
    "            street_full.fillna('Missing', inplace = True)    \n",
    "            ####merge\n",
    "            df = pd.merge(collision[['cnn_sgmt_fkey','y_1','y_2']], street_full,\n",
    "                     left_on = 'cnn_sgmt_fkey',right_on = 'cnn_sgmt_pkey', how = 'inner')\n",
    "            df = pd.merge(df, clusters, left_on = 'f_node_cnn_intrsctn_fkey', \n",
    "                     right_on = 'Segment', how = 'left')\n",
    "            df = pd.merge(df, clusters, left_on = 't_node_cnn_intrsctn_fkey', \n",
    "                     right_on = 'Segment', how = 'left')\n",
    "            ###\n",
    "\n",
    "            features_ = ['cyc_ntwrk_yn', 'speed_limit', 'pk_metered_cnt',\n",
    "             'pk_on_st_cnt', 'oneway_yn', 'daily_ride_qrt', 'facility_type',\n",
    "             'surface_type', 'sharrow', 'Cluster_x',  'Cluster_y']\n",
    "            target_ = t\n",
    "            \n",
    "\n",
    "            X = df[features_]\n",
    "            y = df[target_]\n",
    "            mask_ = ~np.isinf(y)\n",
    "            X = df[features_][mask_]\n",
    "            y = df[target_][mask_]\n",
    "            X.fillna(X.median(), inplace = True) #some missing intercepts\n",
    "            X = pd.get_dummies(X)\n",
    "\n",
    "            ##\n",
    "\n",
    "\n",
    "            parameters = {'max_depth':[5,6,7],\n",
    "                          'max_features':[10,12,14],\n",
    "                         'n_estimators': [300,500]}\n",
    "            rf = RandomForestRegressor(random_state= 0)\n",
    "            regr = GridSearchCV(rf, parameters, cv=10)\n",
    "            regr.fit(X,y)\n",
    "            print('For: '+k+str(i)+' and '+t)\n",
    "            print(regr.best_params_)\n",
    "            rf_best = RandomForestRegressor(**regr.best_params_, random_state = 0, oob_score= True)\n",
    "            rf_best.fit(X,y)\n",
    "            print(rf_best.oob_score_)\n",
    "            print('-------------')\n",
    "            if rf_best.oob_score_ > best_oob:\n",
    "                best_oob = rf_best.oob_score_\n",
    "                best_comb = k+str(i)+' and '+t"
   ]
  },
  {
   "cell_type": "code",
   "execution_count": 126,
   "metadata": {},
   "outputs": [
    {
     "data": {
      "text/plain": [
       "'KNN_7 and y_2'"
      ]
     },
     "execution_count": 126,
     "metadata": {},
     "output_type": "execute_result"
    }
   ],
   "source": [
    "best_comb"
   ]
  },
  {
   "cell_type": "code",
   "execution_count": 131,
   "metadata": {},
   "outputs": [
    {
     "name": "stdout",
     "output_type": "stream",
     "text": [
      "For: KNN_7 and y_2\n",
      "{'max_depth': 5, 'max_features': 8, 'n_estimators': 500}\n",
      "0.4615855280943849\n",
      "-------------\n"
     ]
    }
   ],
   "source": [
    "#final fit\n",
    "\n",
    "for k in ['KNN_']:\n",
    "    for i in [7]:\n",
    "        for t in ['y_2']:\n",
    "            clusters = pd.read_csv(k+str(i)+'.csv')\n",
    "            street_full = pd.read_csv(\"streets_full.csv\")\n",
    "            collision = pd.read_csv(\"st_collision_sgmt_level.csv\")\n",
    "            #street_full.isnull().sum()/len(street_full)\n",
    "\n",
    "            for col_ in ['speed_limit', 'pk_metered_cnt', 'pk_on_st_cnt',\n",
    "                   'oneway_yn', 'daily_ride_qrt']:\n",
    "                if col_ == 'daily_ride_qrt':\n",
    "                    street_full[col_] = street_full[col_].fillna(street_full[col_].median())\n",
    "                else:\n",
    "                    street_full[col_] = street_full[col_].fillna(street_full[col_].value_counts().index[0])\n",
    "\n",
    "            street_full.fillna('missing', inplace = True)    \n",
    "            ####merge\n",
    "            df = pd.merge(collision[['cnn_sgmt_fkey','y_1','y_2']], street_full,\n",
    "                     left_on = 'cnn_sgmt_fkey',right_on = 'cnn_sgmt_pkey', how = 'inner')\n",
    "            df = pd.merge(df, clusters, left_on = 'f_node_cnn_intrsctn_fkey', \n",
    "                     right_on = 'Segment', how = 'left')\n",
    "            df = pd.merge(df, clusters, left_on = 't_node_cnn_intrsctn_fkey', \n",
    "                     right_on = 'Segment', how = 'left')\n",
    "            ###\n",
    "\n",
    "            features_ = ['cyc_ntwrk_yn', 'speed_limit', 'pk_metered_cnt',\n",
    "             'pk_on_st_cnt', 'oneway_yn', 'daily_ride_qrt', 'facility_type',\n",
    "             'surface_type', 'sharrow', 'Cluster_x',  'Cluster_y']\n",
    "            target_ = t\n",
    "            \n",
    "\n",
    "            X = df[features_]\n",
    "            y = df[target_]\n",
    "            mask_ = ~np.isinf(y)\n",
    "            X = df[features_][mask_]\n",
    "            y = df[target_][mask_]\n",
    "            X.fillna(X.median(), inplace = True) #some missing intercepts\n",
    "            X = pd.get_dummies(X)\n",
    "\n",
    "            ##\n",
    "\n",
    "\n",
    "            parameters = {'max_depth':[5,6,7,8,9],\n",
    "                          'max_features':[8,10,12,14,16],\n",
    "                         'n_estimators': [150,300,500]}\n",
    "            rf = RandomForestRegressor(random_state= 0)\n",
    "            regr = GridSearchCV(rf, parameters, cv=10)\n",
    "            regr.fit(X,y)\n",
    "            print('For: '+k+str(i)+' and '+t)\n",
    "            print(regr.best_params_)\n",
    "            rf_best = RandomForestRegressor(**regr.best_params_, random_state = 0, oob_score= True)\n",
    "            rf_best.fit(X,y)\n",
    "            print(rf_best.oob_score_)\n",
    "            print('-------------')\n",
    "            "
   ]
  },
  {
   "cell_type": "code",
   "execution_count": 173,
   "metadata": {},
   "outputs": [
    {
     "data": {
      "text/html": [
       "<div>\n",
       "<style scoped>\n",
       "    .dataframe tbody tr th:only-of-type {\n",
       "        vertical-align: middle;\n",
       "    }\n",
       "\n",
       "    .dataframe tbody tr th {\n",
       "        vertical-align: top;\n",
       "    }\n",
       "\n",
       "    .dataframe thead th {\n",
       "        text-align: right;\n",
       "    }\n",
       "</style>\n",
       "<table border=\"1\" class=\"dataframe\">\n",
       "  <thead>\n",
       "    <tr style=\"text-align: right;\">\n",
       "      <th></th>\n",
       "      <th>feature</th>\n",
       "      <th>imp</th>\n",
       "    </tr>\n",
       "  </thead>\n",
       "  <tbody>\n",
       "    <tr>\n",
       "      <th>3</th>\n",
       "      <td>daily_ride_qrt</td>\n",
       "      <td>0.806636</td>\n",
       "    </tr>\n",
       "    <tr>\n",
       "      <th>0</th>\n",
       "      <td>speed_limit</td>\n",
       "      <td>0.045832</td>\n",
       "    </tr>\n",
       "    <tr>\n",
       "      <th>5</th>\n",
       "      <td>Cluster_y</td>\n",
       "      <td>0.035229</td>\n",
       "    </tr>\n",
       "    <tr>\n",
       "      <th>4</th>\n",
       "      <td>Cluster_x</td>\n",
       "      <td>0.029852</td>\n",
       "    </tr>\n",
       "    <tr>\n",
       "      <th>2</th>\n",
       "      <td>pk_on_st_cnt</td>\n",
       "      <td>0.020731</td>\n",
       "    </tr>\n",
       "    <tr>\n",
       "      <th>1</th>\n",
       "      <td>pk_metered_cnt</td>\n",
       "      <td>0.017457</td>\n",
       "    </tr>\n",
       "    <tr>\n",
       "      <th>12</th>\n",
       "      <td>facility_type_BIKE ROUTE</td>\n",
       "      <td>0.010075</td>\n",
       "    </tr>\n",
       "    <tr>\n",
       "      <th>18</th>\n",
       "      <td>sharrow_YES</td>\n",
       "      <td>0.009157</td>\n",
       "    </tr>\n",
       "    <tr>\n",
       "      <th>17</th>\n",
       "      <td>sharrow_NO</td>\n",
       "      <td>0.006252</td>\n",
       "    </tr>\n",
       "    <tr>\n",
       "      <th>9</th>\n",
       "      <td>oneway_yn_YES</td>\n",
       "      <td>0.004884</td>\n",
       "    </tr>\n",
       "    <tr>\n",
       "      <th>10</th>\n",
       "      <td>facility_type_BIKE LANE</td>\n",
       "      <td>0.003186</td>\n",
       "    </tr>\n",
       "    <tr>\n",
       "      <th>19</th>\n",
       "      <td>sharrow_missing</td>\n",
       "      <td>0.003084</td>\n",
       "    </tr>\n",
       "    <tr>\n",
       "      <th>6</th>\n",
       "      <td>cyc_ntwrk_yn_NO</td>\n",
       "      <td>0.002126</td>\n",
       "    </tr>\n",
       "    <tr>\n",
       "      <th>7</th>\n",
       "      <td>cyc_ntwrk_yn_YES</td>\n",
       "      <td>0.001716</td>\n",
       "    </tr>\n",
       "    <tr>\n",
       "      <th>8</th>\n",
       "      <td>oneway_yn_NO</td>\n",
       "      <td>0.001620</td>\n",
       "    </tr>\n",
       "    <tr>\n",
       "      <th>13</th>\n",
       "      <td>facility_type_missing</td>\n",
       "      <td>0.001315</td>\n",
       "    </tr>\n",
       "    <tr>\n",
       "      <th>11</th>\n",
       "      <td>facility_type_BIKE PATH</td>\n",
       "      <td>0.000510</td>\n",
       "    </tr>\n",
       "    <tr>\n",
       "      <th>16</th>\n",
       "      <td>surface_type_missing</td>\n",
       "      <td>0.000281</td>\n",
       "    </tr>\n",
       "    <tr>\n",
       "      <th>14</th>\n",
       "      <td>surface_type_GREEN PAINT</td>\n",
       "      <td>0.000042</td>\n",
       "    </tr>\n",
       "    <tr>\n",
       "      <th>15</th>\n",
       "      <td>surface_type_GREEN-BACKED SHARROWS</td>\n",
       "      <td>0.000015</td>\n",
       "    </tr>\n",
       "  </tbody>\n",
       "</table>\n",
       "</div>"
      ],
      "text/plain": [
       "                               feature       imp\n",
       "3                       daily_ride_qrt  0.806636\n",
       "0                          speed_limit  0.045832\n",
       "5                            Cluster_y  0.035229\n",
       "4                            Cluster_x  0.029852\n",
       "2                         pk_on_st_cnt  0.020731\n",
       "1                       pk_metered_cnt  0.017457\n",
       "12            facility_type_BIKE ROUTE  0.010075\n",
       "18                         sharrow_YES  0.009157\n",
       "17                          sharrow_NO  0.006252\n",
       "9                        oneway_yn_YES  0.004884\n",
       "10             facility_type_BIKE LANE  0.003186\n",
       "19                     sharrow_missing  0.003084\n",
       "6                      cyc_ntwrk_yn_NO  0.002126\n",
       "7                     cyc_ntwrk_yn_YES  0.001716\n",
       "8                         oneway_yn_NO  0.001620\n",
       "13               facility_type_missing  0.001315\n",
       "11             facility_type_BIKE PATH  0.000510\n",
       "16                surface_type_missing  0.000281\n",
       "14            surface_type_GREEN PAINT  0.000042\n",
       "15  surface_type_GREEN-BACKED SHARROWS  0.000015"
      ]
     },
     "execution_count": 173,
     "metadata": {},
     "output_type": "execute_result"
    }
   ],
   "source": [
    "#pd.DataFrame({'feature': X.columns, 'imp':rf_best.feature_importances_}).sort_values(by = ['imp'], ascending=False).to_csv(\"feature_imp.csv\", index = False)\n",
    "pd.DataFrame({'feature': X.columns, 'imp':rf_best.feature_importances_}).sort_values(by = ['imp'], ascending=False)"
   ]
  },
  {
   "cell_type": "code",
   "execution_count": 132,
   "metadata": {},
   "outputs": [],
   "source": [
    "df = pd.merge(street_full, clusters, left_on = 'f_node_cnn_intrsctn_fkey', right_on = 'Segment', how = 'left')\n",
    "df = pd.merge(df, clusters, left_on = 't_node_cnn_intrsctn_fkey', right_on = 'Segment', how = 'left')\n",
    "\n",
    "\n"
   ]
  },
  {
   "cell_type": "code",
   "execution_count": 133,
   "metadata": {},
   "outputs": [],
   "source": [
    "X = df[features_]\n",
    "X.fillna(X.median(), inplace = True) #some missing intercepts\n",
    "X = pd.get_dummies(X)"
   ]
  },
  {
   "cell_type": "code",
   "execution_count": 143,
   "metadata": {},
   "outputs": [],
   "source": [
    "export_columns = ['cnn_sgmt_pkey', 'f_node_cnn_intrsctn_fkey', 't_node_cnn_intrsctn_fkey',\n",
    "       'cyc_ntwrk_yn', 'speed_limit', 'pk_metered_cnt', 'pk_on_st_cnt',\n",
    "       'oneway_yn', 'daily_ride_qrt', 'facility_type', 'surface_type',\n",
    "       'sharrow', 'Cluster_x','Cluster_y']"
   ]
  },
  {
   "cell_type": "code",
   "execution_count": 144,
   "metadata": {},
   "outputs": [],
   "source": [
    "predict_score = rf_best.predict(X)\n",
    "export_df = df[export_columns]\n",
    "export_df['Score_y2'] = predict_score"
   ]
  },
  {
   "cell_type": "code",
   "execution_count": 150,
   "metadata": {},
   "outputs": [
    {
     "data": {
      "text/plain": [
       "<matplotlib.axes._subplots.AxesSubplot at 0x9b3f3805c0>"
      ]
     },
     "execution_count": 150,
     "metadata": {},
     "output_type": "execute_result"
    },
    {
     "data": {
      "image/png": "[encoded data removed]",
      "text/plain": [
       "<Figure size 432x288 with 1 Axes>"
      ]
     },
     "metadata": {
      "needs_background": "light"
     },
     "output_type": "display_data"
    }
   ],
   "source": [
    "export_df['Score_y2'].plot.hist()"
   ]
  },
  {
   "cell_type": "code",
   "execution_count": 149,
   "metadata": {},
   "outputs": [
    {
     "data": {
      "text/plain": [
       "<matplotlib.axes._subplots.AxesSubplot at 0x9b3f305d30>"
      ]
     },
     "execution_count": 149,
     "metadata": {},
     "output_type": "execute_result"
    },
    {
     "data": {
      "image/png": "[encoded data removed]",
      "text/plain": [
       "<Figure size 432x288 with 1 Axes>"
      ]
     },
     "metadata": {
      "needs_background": "light"
     },
     "output_type": "display_data"
    }
   ],
   "source": [
    "np.log(export_df['Score_y2']).plot.hist()"
   ]
  },
  {
   "cell_type": "code",
   "execution_count": 161,
   "metadata": {},
   "outputs": [],
   "source": [
    "from sklearn.preprocessing import MinMaxScaler\n",
    "scaler  = MinMaxScaler((50,100))\n",
    "scaler.fit(np.array(np.log(export_df['Score_y2'])).reshape(-1,1))\n",
    "scaled_score = scaler.transform(np.array(np.log(export_df['Score_y2'])).reshape(-1,1))\n",
    "export_df['Scale_Score_y2'] = scaled_score\n"
   ]
  },
  {
   "cell_type": "code",
   "execution_count": 164,
   "metadata": {},
   "outputs": [],
   "source": [
    "export_df.to_csv(\"Safe Score Segments DataFrame.csv\", index = False)"
   ]
  }
 ],
 "metadata": {
  "kernelspec": {
   "display_name": "Python 3",
   "language": "python",
   "name": "python3"
  },
  "language_info": {
   "codemirror_mode": {
    "name": "ipython",
    "version": 3
   },
   "file_extension": ".py",
   "mimetype": "text/x-python",
   "name": "python",
   "nbconvert_exporter": "python",
   "pygments_lexer": "ipython3",
   "version": "3.7.0"
  }
 },
 "nbformat": 4,
 "nbformat_minor": 2
}
