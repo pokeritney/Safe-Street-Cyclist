{
 "cells": [
  {
   "cell_type": "code",
   "execution_count": 1,
   "metadata": {
    "collapsed": true
   },
   "outputs": [
    {
     "name": "stdout",
     "output_type": "stream",
     "text": [
      "Collecting tf-nightly-gpu-2.0-preview\n",
      "  Using cached https://files.pythonhosted.org/packages/89/03/f57af96bdd75537825c022c7e326d69f43e0c8756fb8bd3d9cd5e6a50201/tf_nightly_gpu_2.0_preview-2.0.0.dev20191002-cp37-cp37m-win_amd64.whl\n",
      "Requirement already satisfied: tb-nightly<2.2.0a0,>=2.1.0a0 in c:\\users\\kensen.tan\\appdata\\local\\continuum\\anaconda3\\lib\\site-packages (from tf-nightly-gpu-2.0-preview) (2.1.0a20191106)\n",
      "Requirement already satisfied: wheel>=0.26; python_version >= \"3\" in c:\\users\\kensen.tan\\appdata\\local\\continuum\\anaconda3\\lib\\site-packages (from tf-nightly-gpu-2.0-preview) (0.31.1)\n",
      "Requirement already satisfied: termcolor>=1.1.0 in c:\\users\\kensen.tan\\appdata\\local\\continuum\\anaconda3\\lib\\site-packages (from tf-nightly-gpu-2.0-preview) (1.1.0)\n",
      "Requirement already satisfied: astor>=0.6.0 in c:\\users\\kensen.tan\\appdata\\local\\continuum\\anaconda3\\lib\\site-packages (from tf-nightly-gpu-2.0-preview) (0.8.0)\n",
      "Requirement already satisfied: keras-preprocessing>=1.0.5 in c:\\users\\kensen.tan\\appdata\\local\\continuum\\anaconda3\\lib\\site-packages (from tf-nightly-gpu-2.0-preview) (1.1.0)\n",
      "Requirement already satisfied: absl-py>=0.7.0 in c:\\users\\kensen.tan\\appdata\\local\\continuum\\anaconda3\\lib\\site-packages (from tf-nightly-gpu-2.0-preview) (0.8.1)\n",
      "Requirement already satisfied: opt-einsum>=2.3.2 in c:\\users\\kensen.tan\\appdata\\local\\continuum\\anaconda3\\lib\\site-packages (from tf-nightly-gpu-2.0-preview) (3.1.0)\n",
      "Requirement already satisfied: grpcio>=1.8.6 in c:\\users\\kensen.tan\\appdata\\local\\continuum\\anaconda3\\lib\\site-packages (from tf-nightly-gpu-2.0-preview) (1.25.0)\n",
      "Requirement already satisfied: gast==0.2.2 in c:\\users\\kensen.tan\\appdata\\local\\continuum\\anaconda3\\lib\\site-packages (from tf-nightly-gpu-2.0-preview) (0.2.2)\n",
      "Requirement already satisfied: wrapt>=1.11.1 in c:\\users\\kensen.tan\\appdata\\local\\continuum\\anaconda3\\lib\\site-packages (from tf-nightly-gpu-2.0-preview) (1.11.2)\n",
      "Requirement already satisfied: protobuf>=3.6.1 in c:\\users\\kensen.tan\\appdata\\local\\continuum\\anaconda3\\lib\\site-packages (from tf-nightly-gpu-2.0-preview) (3.10.0)\n",
      "Requirement already satisfied: google-pasta>=0.1.6 in c:\\users\\kensen.tan\\appdata\\local\\continuum\\anaconda3\\lib\\site-packages (from tf-nightly-gpu-2.0-preview) (0.1.8)\n",
      "Requirement already satisfied: numpy<2.0,>=1.16.0 in c:\\users\\kensen.tan\\appdata\\local\\continuum\\anaconda3\\lib\\site-packages (from tf-nightly-gpu-2.0-preview) (1.17.3)\n",
      "Requirement already satisfied: six>=1.10.0 in c:\\users\\kensen.tan\\appdata\\local\\continuum\\anaconda3\\lib\\site-packages (from tf-nightly-gpu-2.0-preview) (1.11.0)\n",
      "Requirement already satisfied: keras-applications>=1.0.8 in c:\\users\\kensen.tan\\appdata\\local\\continuum\\anaconda3\\lib\\site-packages (from tf-nightly-gpu-2.0-preview) (1.0.8)\n",
      "Requirement already satisfied: tensorflow-estimator-2.0-preview in c:\\users\\kensen.tan\\appdata\\local\\continuum\\anaconda3\\lib\\site-packages (from tf-nightly-gpu-2.0-preview) (2.0.0)\n",
      "Requirement already satisfied: google-auth-oauthlib<0.5,>=0.4.1 in c:\\users\\kensen.tan\\appdata\\local\\continuum\\anaconda3\\lib\\site-packages (from tb-nightly<2.2.0a0,>=2.1.0a0->tf-nightly-gpu-2.0-preview) (0.4.1)\n",
      "Requirement already satisfied: google-auth<2,>=1.6.3 in c:\\users\\kensen.tan\\appdata\\local\\continuum\\anaconda3\\lib\\site-packages (from tb-nightly<2.2.0a0,>=2.1.0a0->tf-nightly-gpu-2.0-preview) (1.7.0)\n",
      "Requirement already satisfied: markdown>=2.6.8 in c:\\users\\kensen.tan\\appdata\\local\\continuum\\anaconda3\\lib\\site-packages (from tb-nightly<2.2.0a0,>=2.1.0a0->tf-nightly-gpu-2.0-preview) (3.1.1)\n",
      "Requirement already satisfied: setuptools>=41.0.0 in c:\\users\\kensen.tan\\appdata\\local\\continuum\\anaconda3\\lib\\site-packages (from tb-nightly<2.2.0a0,>=2.1.0a0->tf-nightly-gpu-2.0-preview) (41.6.0)\n",
      "Requirement already satisfied: werkzeug>=0.11.15 in c:\\users\\kensen.tan\\appdata\\local\\continuum\\anaconda3\\lib\\site-packages (from tb-nightly<2.2.0a0,>=2.1.0a0->tf-nightly-gpu-2.0-preview) (0.14.1)\n",
      "Requirement already satisfied: h5py in c:\\users\\kensen.tan\\appdata\\local\\continuum\\anaconda3\\lib\\site-packages (from keras-applications>=1.0.8->tf-nightly-gpu-2.0-preview) (2.8.0)\n",
      "Requirement already satisfied: requests-oauthlib>=0.7.0 in c:\\users\\kensen.tan\\appdata\\local\\continuum\\anaconda3\\lib\\site-packages (from google-auth-oauthlib<0.5,>=0.4.1->tb-nightly<2.2.0a0,>=2.1.0a0->tf-nightly-gpu-2.0-preview) (1.3.0)\n",
      "Requirement already satisfied: cachetools<3.2,>=2.0.0 in c:\\users\\kensen.tan\\appdata\\local\\continuum\\anaconda3\\lib\\site-packages (from google-auth<2,>=1.6.3->tb-nightly<2.2.0a0,>=2.1.0a0->tf-nightly-gpu-2.0-preview) (3.1.1)\n",
      "Requirement already satisfied: pyasn1-modules>=0.2.1 in c:\\users\\kensen.tan\\appdata\\local\\continuum\\anaconda3\\lib\\site-packages (from google-auth<2,>=1.6.3->tb-nightly<2.2.0a0,>=2.1.0a0->tf-nightly-gpu-2.0-preview) (0.2.2)\n",
      "Requirement already satisfied: rsa<4.1,>=3.1.4 in c:\\users\\kensen.tan\\appdata\\local\\continuum\\anaconda3\\lib\\site-packages (from google-auth<2,>=1.6.3->tb-nightly<2.2.0a0,>=2.1.0a0->tf-nightly-gpu-2.0-preview) (4.0)\n",
      "Requirement already satisfied: requests>=2.0.0 in c:\\users\\kensen.tan\\appdata\\local\\continuum\\anaconda3\\lib\\site-packages (from requests-oauthlib>=0.7.0->google-auth-oauthlib<0.5,>=0.4.1->tb-nightly<2.2.0a0,>=2.1.0a0->tf-nightly-gpu-2.0-preview) (2.19.1)\n",
      "Requirement already satisfied: oauthlib>=3.0.0 in c:\\users\\kensen.tan\\appdata\\local\\continuum\\anaconda3\\lib\\site-packages (from requests-oauthlib>=0.7.0->google-auth-oauthlib<0.5,>=0.4.1->tb-nightly<2.2.0a0,>=2.1.0a0->tf-nightly-gpu-2.0-preview) (3.1.0)\n",
      "Requirement already satisfied: pyasn1<0.5.0,>=0.4.1 in c:\\users\\kensen.tan\\appdata\\local\\continuum\\anaconda3\\lib\\site-packages (from pyasn1-modules>=0.2.1->google-auth<2,>=1.6.3->tb-nightly<2.2.0a0,>=2.1.0a0->tf-nightly-gpu-2.0-preview) (0.4.4)\n",
      "Requirement already satisfied: urllib3<1.24,>=1.21.1 in c:\\users\\kensen.tan\\appdata\\local\\continuum\\anaconda3\\lib\\site-packages (from requests>=2.0.0->requests-oauthlib>=0.7.0->google-auth-oauthlib<0.5,>=0.4.1->tb-nightly<2.2.0a0,>=2.1.0a0->tf-nightly-gpu-2.0-preview) (1.23)\n",
      "Requirement already satisfied: idna<2.8,>=2.5 in c:\\users\\kensen.tan\\appdata\\local\\continuum\\anaconda3\\lib\\site-packages (from requests>=2.0.0->requests-oauthlib>=0.7.0->google-auth-oauthlib<0.5,>=0.4.1->tb-nightly<2.2.0a0,>=2.1.0a0->tf-nightly-gpu-2.0-preview) (2.7)\n",
      "Requirement already satisfied: certifi>=2017.4.17 in c:\\users\\kensen.tan\\appdata\\local\\continuum\\anaconda3\\lib\\site-packages (from requests>=2.0.0->requests-oauthlib>=0.7.0->google-auth-oauthlib<0.5,>=0.4.1->tb-nightly<2.2.0a0,>=2.1.0a0->tf-nightly-gpu-2.0-preview) (2019.9.11)\n",
      "Requirement already satisfied: chardet<3.1.0,>=3.0.2 in c:\\users\\kensen.tan\\appdata\\local\\continuum\\anaconda3\\lib\\site-packages (from requests>=2.0.0->requests-oauthlib>=0.7.0->google-auth-oauthlib<0.5,>=0.4.1->tb-nightly<2.2.0a0,>=2.1.0a0->tf-nightly-gpu-2.0-preview) (3.0.4)\n",
      "Installing collected packages: tf-nightly-gpu-2.0-preview\n",
      "Successfully installed tf-nightly-gpu-2.0-preview-2.0.0.dev20191002\n"
     ]
    },
    {
     "name": "stderr",
     "output_type": "stream",
     "text": [
      "twisted 18.7.0 requires PyHamcrest>=1.9.0, which is not installed.\n",
      "featexp 0.0.5 has requirement numpy==1.15.4, but you'll have numpy 1.17.3 which is incompatible.\n",
      "You are using pip version 10.0.1, however version 19.3.1 is available.\n",
      "You should consider upgrading via the 'python -m pip install --upgrade pip' command.\n"
     ]
    },
    {
     "name": "stdout",
     "output_type": "stream",
     "text": [
      "The following GPU devices are available: \n"
     ]
    }
   ],
   "source": [
    "#@title Imports and function definitions\n",
    "\n",
    "# Currently %tensorflow_version 2.x installs beta1, which doesn't work here.\n",
    "# %tensorflow_version can likely be used after 2.0rc0  \n",
    "!pip install tf-nightly-gpu-2.0-preview\n",
    "\n",
    "# For running inference on the TF-Hub module.\n",
    "import tensorflow as tf\n",
    "\n",
    "import tensorflow_hub as hub\n",
    "\n",
    "# For downloading the image.\n",
    "import matplotlib.pyplot as plt\n",
    "import tempfile\n",
    "from six.moves.urllib.request import urlopen\n",
    "from six import BytesIO\n",
    "\n",
    "# For drawing onto the image.\n",
    "import numpy as np\n",
    "from PIL import Image\n",
    "from PIL import ImageColor\n",
    "from PIL import ImageDraw\n",
    "from PIL import ImageFont\n",
    "from PIL import ImageOps\n",
    "\n",
    "# For measuring the inference time.\n",
    "import time\n",
    "\n",
    "# Check available GPU devices.\n",
    "#print(\"The following GPU devices are available: %s\" % tf.test.gpu_device_name())"
   ]
  },
  {
   "cell_type": "code",
   "execution_count": 17,
   "metadata": {},
   "outputs": [],
   "source": [
    "def display_image(image):\n",
    "  fig = plt.figure(figsize=(20, 15))\n",
    "  plt.grid(False)\n",
    "  plt.imshow(image)\n",
    "\n",
    "\n",
    "def download_and_resize_image(url, new_width=256, new_height=256,\n",
    "                              display=False):\n",
    "  _, filename = tempfile.mkstemp(suffix=\".jpg\")\n",
    "  response = urlopen(url)\n",
    "  image_data = response.read()\n",
    "  image_data = BytesIO(image_data)\n",
    "  pil_image = Image.open(image_data)\n",
    "  pil_image = ImageOps.fit(pil_image, (new_width, new_height), Image.ANTIALIAS)\n",
    "  pil_image_rgb = pil_image.convert(\"RGB\")\n",
    "  pil_image_rgb.save(filename, format=\"JPEG\", quality=90)\n",
    "  print(\"Image downloaded to %s.\" % filename)\n",
    "  if display:\n",
    "    display_image(pil_image)\n",
    "  return filename\n",
    "\n",
    "\n",
    "def draw_bounding_box_on_image(image,\n",
    "                               ymin,\n",
    "                               xmin,\n",
    "                               ymax,\n",
    "                               xmax,\n",
    "                               color,\n",
    "                               font,\n",
    "                               thickness=4,\n",
    "                               display_str_list=()):\n",
    "  \"\"\"Adds a bounding box to an image.\"\"\"\n",
    "  draw = ImageDraw.Draw(image)\n",
    "  im_width, im_height = image.size\n",
    "  (left, right, top, bottom) = (xmin * im_width, xmax * im_width,\n",
    "                                ymin * im_height, ymax * im_height)\n",
    "  draw.line([(left, top), (left, bottom), (right, bottom), (right, top),\n",
    "             (left, top)],\n",
    "            width=thickness,\n",
    "            fill=color)\n",
    "\n",
    "  # If the total height of the display strings added to the top of the bounding\n",
    "  # box exceeds the top of the image, stack the strings below the bounding box\n",
    "  # instead of above.\n",
    "  display_str_heights = [font.getsize(ds)[1] for ds in display_str_list]\n",
    "  # Each display_str has a top and bottom margin of 0.05x.\n",
    "  total_display_str_height = (1 + 2 * 0.05) * sum(display_str_heights)\n",
    "\n",
    "  if top > total_display_str_height:\n",
    "    text_bottom = top\n",
    "  else:\n",
    "    text_bottom = bottom + total_display_str_height\n",
    "  # Reverse list and print from bottom to top.\n",
    "  for display_str in display_str_list[::-1]:\n",
    "    text_width, text_height = font.getsize(display_str)\n",
    "    margin = np.ceil(0.05 * text_height)\n",
    "    draw.rectangle([(left, text_bottom - text_height - 2 * margin),\n",
    "                    (left + text_width, text_bottom)],\n",
    "                   fill=color)\n",
    "    draw.text((left + margin, text_bottom - text_height - margin),\n",
    "              display_str,\n",
    "              fill=\"black\",\n",
    "              font=font)\n",
    "    text_bottom -= text_height - 2 * margin\n",
    "\n",
    "\n",
    "def draw_boxes(image, boxes, class_names, scores, max_boxes=20, min_score=0.1):\n",
    "  \"\"\"Overlay labeled boxes on an image with formatted scores and label names.\"\"\"\n",
    "  colors = list(ImageColor.colormap.values())\n",
    "\n",
    "  try:\n",
    "    font = ImageFont.truetype(\"/usr/share/fonts/truetype/liberation/LiberationSansNarrow-Regular.ttf\",\n",
    "                              25)\n",
    "  except IOError:\n",
    "    print(\"Font not found, using default font.\")\n",
    "    font = ImageFont.load_default()\n",
    "\n",
    "  for i in range(min(boxes.shape[0], max_boxes)):\n",
    "    if scores[i] >= min_score:\n",
    "      ymin, xmin, ymax, xmax = tuple(boxes[i])\n",
    "      display_str = \"{}: {}%\".format(class_names[i].decode(\"ascii\"),\n",
    "                                     int(100 * scores[i]))\n",
    "      color = colors[hash(class_names[i]) % len(colors)]\n",
    "      image_pil = Image.fromarray(np.uint8(image)).convert(\"RGB\")\n",
    "      draw_bounding_box_on_image(\n",
    "          image_pil,\n",
    "          ymin,\n",
    "          xmin,\n",
    "          ymax,\n",
    "          xmax,\n",
    "          color,\n",
    "          font,\n",
    "          display_str_list=[display_str])\n",
    "      np.copyto(image, np.array(image_pil))\n",
    "  return image"
   ]
  },
  {
   "cell_type": "code",
   "execution_count": 5,
   "metadata": {},
   "outputs": [
    {
     "name": "stdout",
     "output_type": "stream",
     "text": [
      "INFO:tensorflow:Saver not created because there are no variables in the graph to restore\n"
     ]
    },
    {
     "name": "stderr",
     "output_type": "stream",
     "text": [
      "INFO:tensorflow:Saver not created because there are no variables in the graph to restore\n"
     ]
    }
   ],
   "source": [
    "module_handle = \"https://tfhub.dev/google/faster_rcnn/openimages_v4/inception_resnet_v2/1\" #@param [\"https://tfhub.dev/google/openimages_v4/ssd/mobilenet_v2/1\", \"https://tfhub.dev/google/faster_rcnn/openimages_v4/inception_resnet_v2/1\"]\n",
    "\n",
    "detector = hub.load(module_handle).signatures['default']"
   ]
  },
  {
   "cell_type": "code",
   "execution_count": null,
   "metadata": {},
   "outputs": [],
   "source": [
    "def load_img(path):\n",
    "  img = tf.io.read_file(path)\n",
    "  img = tf.image.decode_jpeg(img, channels=3)\n",
    "  return img\n",
    "\n",
    "def run_detector(detector, path):\n",
    "  img = load_img(path)\n",
    "\n",
    "  converted_img  = tf.image.convert_image_dtype(img, tf.float32)[tf.newaxis, ...]\n",
    "  start_time = time.time()\n",
    "  result = detector(converted_img)\n",
    "  end_time = time.time()\n",
    "\n",
    "  result = {key:value.numpy() for key,value in result.items()}\n",
    "\n",
    "  print(\"Found %d objects.\" % len(result[\"detection_scores\"]))\n",
    "  print(\"Inference time: \", end_time-start_time)\n",
    "\n",
    " # image_with_boxes = draw_boxes(\n",
    "   #   img.numpy(), result[\"detection_boxes\"],\n",
    "    #  result[\"detection_class_entities\"], result[\"detection_scores\"])\n",
    "\n",
    "  #display_image(image_with_boxes)\n",
    "  return result"
   ]
  },
  {
   "cell_type": "code",
   "execution_count": 25,
   "metadata": {},
   "outputs": [],
   "source": [
    "images_list = ['20010000','20006000']"
   ]
  },
  {
   "cell_type": "code",
   "execution_count": 62,
   "metadata": {},
   "outputs": [
    {
     "name": "stdout",
     "output_type": "stream",
     "text": [
      "Found 100 objects.\n",
      "Inference time:  46.98719620704651\n",
      "Font not found, using default font.\n",
      "Found 100 objects.\n",
      "Inference time:  44.500972032547\n",
      "Font not found, using default font.\n"
     ]
    }
   ],
   "source": [
    "images_run = {}\n",
    "for i in [0,1]:\n",
    "    path_ = 'Z:\\\\Kensen\\\\Python Script Test\\\\' + images_list[i] + \".jpg\"\n",
    "    classes = {}\n",
    "    out = run_detector(detector, path_)        \n",
    "    classes['detection_scores'] = out['detection_scores'].tolist()\n",
    "    classes['detection_class_entities'] = [str(x) for x in out['detection_class_entities']]\n",
    "    images_run[images_list[i]] = classes"
   ]
  },
  {
   "cell_type": "code",
   "execution_count": 69,
   "metadata": {},
   "outputs": [],
   "source": [
    "import json\n",
    "json.dump(images_run, open('images_run.json','w'), indent = 4)"
   ]
  },
  {
   "cell_type": "code",
   "execution_count": 70,
   "metadata": {},
   "outputs": [],
   "source": [
    "#with open('images_run.json') as json_file:\n",
    "   # data = json.load(json_file)"
   ]
  }
 ],
 "metadata": {
  "kernelspec": {
   "display_name": "Python 3",
   "language": "python",
   "name": "python3"
  },
  "language_info": {
   "codemirror_mode": {
    "name": "ipython",
    "version": 3
   },
   "file_extension": ".py",
   "mimetype": "text/x-python",
   "name": "python",
   "nbconvert_exporter": "python",
   "pygments_lexer": "ipython3",
   "version": "3.7.0"
  }
 },
 "nbformat": 4,
 "nbformat_minor": 2
}
