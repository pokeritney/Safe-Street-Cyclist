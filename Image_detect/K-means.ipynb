{
 "cells": [
  {
   "cell_type": "code",
   "execution_count": 113,
   "metadata": {},
   "outputs": [],
   "source": [
    "import json\n",
    "import numpy as np\n",
    "import pandas as pd\n",
    "from matplotlib import pyplot as plt\n",
    "from sklearn.cluster import KMeans\n"
   ]
  },
  {
   "cell_type": "code",
   "execution_count": 45,
   "metadata": {},
   "outputs": [],
   "source": [
    "objects = {}\n",
    "prob_cutoff = 0.15\n",
    "#maybe use probability score instead of binary next time?\n",
    "\n",
    "for i in range(1,9):   \n",
    "    file_name = 'images_run'+str(i)+'.json'\n",
    "    with open(file_name) as json_file:\n",
    "        data_ = json.load(json_file)\n",
    "    \n",
    "    for img in data_.keys():\n",
    "        if i < 7:\n",
    "            key_ = img[:len(img)-4]\n",
    "        else:\n",
    "            key_ = img\n",
    "        ds = np.array(data_[img]['detection_scores'])\n",
    "        ob = np.array(data_[img]['detection_class_entities'])\n",
    "        mask_ = (ds >= prob_cutoff)\n",
    "        objects[key_] = ob[mask_]\n",
    "    "
   ]
  },
  {
   "cell_type": "code",
   "execution_count": 67,
   "metadata": {},
   "outputs": [],
   "source": [
    "set_ = np.array([])\n",
    "for k in objects.keys():\n",
    "    set_ = np.append(set_, objects[k])\n",
    "unique_objects = set(set_)"
   ]
  },
  {
   "cell_type": "code",
   "execution_count": 90,
   "metadata": {},
   "outputs": [],
   "source": [
    "object_df = pd.DataFrame(columns =list(unique_objects))\n",
    "\n",
    "for k in objects.keys():\n",
    "    \n",
    "    counter = np.zeros(len(unique_objects))\n",
    "    for obj in objects[k]:\n",
    "        index_ = object_df.columns.get_loc(obj)\n",
    "        counter[index_] = counter[index_] + 1\n",
    "        \n",
    "    object_df.loc[k] = counter        "
   ]
  },
  {
   "cell_type": "code",
   "execution_count": 103,
   "metadata": {},
   "outputs": [],
   "source": [
    "freq = object_df.apply(sum, axis = 0).sort_values(ascending = False)\n",
    "useful_objects = freq[freq >= 20].index"
   ]
  },
  {
   "cell_type": "code",
   "execution_count": 117,
   "metadata": {
    "scrolled": true
   },
   "outputs": [
    {
     "data": {
      "image/png": "[encoded data removed]",
      "text/plain": [
       "<Figure size 432x288 with 1 Axes>"
      ]
     },
     "metadata": {
      "needs_background": "light"
     },
     "output_type": "display_data"
    }
   ],
   "source": [
    "wcss = []\n",
    "for i in range(1, 20):\n",
    "    kmeans = KMeans(n_clusters=i, init='k-means++', max_iter=300, n_init=10, random_state=0)\n",
    "    kmeans.fit(object_df[useful_objects])\n",
    "    wcss.append(kmeans.inertia_)\n",
    "plt.plot(range(1, 20), wcss)\n",
    "plt.title('Elbow Method')\n",
    "plt.xlabel('Number of clusters')\n",
    "plt.ylabel('WCSS')\n",
    "plt.show()"
   ]
  },
  {
   "cell_type": "code",
   "execution_count": 129,
   "metadata": {},
   "outputs": [],
   "source": [
    "#7 to 10 seems like a good K\n",
    "for i in [7,8,9,10]:\n",
    "    kmeans = KMeans(n_clusters=i, init='k-means++', max_iter=300, n_init=10, random_state=0)\n",
    "    kmeans.fit(object_df[useful_objects])\n",
    "    file_name = 'KNN_'+str(i)+'.csv'\n",
    "    pd.DataFrame({\"Segment\":object_df.index, \"Cluster\": kmeans.labels_}).to_csv(file_name, index = False)"
   ]
  },
  {
   "cell_type": "code",
   "execution_count": null,
   "metadata": {},
   "outputs": [],
   "source": [
    "##sparse data PCA?\n",
    "##different cut off?\n",
    "##choose K with target?\n",
    "##choose K with sum of squared distance\n",
    "##use probability score instead?\n"
   ]
  }
 ],
 "metadata": {
  "kernelspec": {
   "display_name": "Python 3",
   "language": "python",
   "name": "python3"
  },
  "language_info": {
   "codemirror_mode": {
    "name": "ipython",
    "version": 3
   },
   "file_extension": ".py",
   "mimetype": "text/x-python",
   "name": "python",
   "nbconvert_exporter": "python",
   "pygments_lexer": "ipython3",
   "version": "3.7.0"
  }
 },
 "nbformat": 4,
 "nbformat_minor": 2
}
